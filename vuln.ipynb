{
 "cells": [
  {
   "cell_type": "code",
   "execution_count": 55,
   "metadata": {},
   "outputs": [],
   "source": [
    "import tensorflow as tf\n",
    "from tensorflow.keras import layers, models\n",
    "from tensorflow.keras.datasets import mnist\n",
    "from tensorflow.keras.utils import to_categorical\n",
    "import numpy as np\n"
   ]
  },
  {
   "cell_type": "code",
   "execution_count": 56,
   "metadata": {},
   "outputs": [],
   "source": [
    "\n",
    "# Step 1: Load the MNIST dataset\n",
    "(train_images, train_labels), (test_images, test_labels) = mnist.load_data()\n",
    "\n",
    "# Step 2: Preprocess the data\n",
    "# Reshape the images to 28x28x1 (grayscale) and normalize to [0, 1]\n",
    "train_images = train_images.reshape((train_images.shape[0], 28, 28, 1)).astype('float32') / 255\n",
    "test_images = test_images.reshape((test_images.shape[0], 28, 28, 1)).astype('float32') / 255\n",
    "\n",
    "# Convert labels to one-hot encoding\n",
    "train_labels = to_categorical(train_labels)\n",
    "test_labels = to_categorical(test_labels)\n"
   ]
  },
  {
   "cell_type": "code",
   "execution_count": 57,
   "metadata": {},
   "outputs": [
    {
     "name": "stdout",
     "output_type": "stream",
     "text": [
      "Epoch 1/5\n",
      "\u001b[1m938/938\u001b[0m \u001b[32m━━━━━━━━━━━━━━━━━━━━\u001b[0m\u001b[37m\u001b[0m \u001b[1m6s\u001b[0m 6ms/step - accuracy: 0.8666 - loss: 0.4431 - val_accuracy: 0.9800 - val_loss: 0.0647\n",
      "Epoch 2/5\n",
      "\u001b[1m938/938\u001b[0m \u001b[32m━━━━━━━━━━━━━━━━━━━━\u001b[0m\u001b[37m\u001b[0m \u001b[1m5s\u001b[0m 6ms/step - accuracy: 0.9819 - loss: 0.0550 - val_accuracy: 0.9866 - val_loss: 0.0412\n",
      "Epoch 3/5\n",
      "\u001b[1m938/938\u001b[0m \u001b[32m━━━━━━━━━━━━━━━━━━━━\u001b[0m\u001b[37m\u001b[0m \u001b[1m5s\u001b[0m 6ms/step - accuracy: 0.9885 - loss: 0.0376 - val_accuracy: 0.9903 - val_loss: 0.0295\n",
      "Epoch 4/5\n",
      "\u001b[1m938/938\u001b[0m \u001b[32m━━━━━━━━━━━━━━━━━━━━\u001b[0m\u001b[37m\u001b[0m \u001b[1m5s\u001b[0m 6ms/step - accuracy: 0.9908 - loss: 0.0291 - val_accuracy: 0.9914 - val_loss: 0.0288\n",
      "Epoch 5/5\n",
      "\u001b[1m938/938\u001b[0m \u001b[32m━━━━━━━━━━━━━━━━━━━━\u001b[0m\u001b[37m\u001b[0m \u001b[1m5s\u001b[0m 6ms/step - accuracy: 0.9923 - loss: 0.0226 - val_accuracy: 0.9907 - val_loss: 0.0282\n"
     ]
    },
    {
     "name": "stderr",
     "output_type": "stream",
     "text": [
      "WARNING:absl:You are saving your model as an HDF5 file via `model.save()` or `keras.saving.save_model(model)`. This file format is considered legacy. We recommend using instead the native Keras format, e.g. `model.save('my_model.keras')` or `keras.saving.save_model(model, 'my_model.keras')`. \n"
     ]
    }
   ],
   "source": [
    "\n",
    "# Step 3: Build the model\n",
    "model = models.Sequential([\n",
    "    layers.Conv2D(32, (3, 3), activation='relu', input_shape=(28, 28, 1)),\n",
    "    layers.MaxPooling2D((2, 2)),\n",
    "    layers.Conv2D(64, (3, 3), activation='relu'),\n",
    "    layers.MaxPooling2D((2, 2)),\n",
    "    layers.Conv2D(64, (3, 3), activation='relu'),\n",
    "    layers.Flatten(),\n",
    "    layers.Dense(64, activation='relu'),\n",
    "    layers.Dense(10, activation='softmax')  # 10 classes for MNIST digits (0-9)\n",
    "])\n",
    "\n",
    "# Step 4: Compile the model\n",
    "model.compile(optimizer='adam',\n",
    "              loss='categorical_crossentropy',\n",
    "              metrics=['accuracy'])\n",
    "\n",
    "# Step 5: Train the model\n",
    "model.fit(train_images, train_labels, epochs=5, batch_size=64, validation_data=(test_images, test_labels))\n",
    "\n",
    "# Step 6: Save the trained model\n",
    "model.save('mnist_model.h5')\n"
   ]
  },
  {
   "cell_type": "code",
   "execution_count": 58,
   "metadata": {},
   "outputs": [],
   "source": [
    "import tensorflow as tf\n",
    "import numpy as np\n",
    "import matplotlib.pyplot as plt\n",
    "from tensorflow.keras import datasets, layers, models\n",
    "\n"
   ]
  },
  {
   "cell_type": "code",
   "execution_count": 59,
   "metadata": {},
   "outputs": [],
   "source": [
    "\n",
    "# Load MNIST dataset\n",
    "def load_mnist_data():\n",
    "    (x_train, y_train), (x_test, y_test) = datasets.mnist.load_data()\n",
    "    x_train, x_test = x_train / 255.0, x_test / 255.0  # Normalize the pixel values to [0, 1]\n",
    "    x_train = np.expand_dims(x_train, axis=-1)  # Add channel dimension for grayscale images\n",
    "    x_test = np.expand_dims(x_test, axis=-1)  # Add channel dimension for grayscale images\n",
    "    return (x_train, y_train), (x_test, y_test)\n",
    "\n"
   ]
  },
  {
   "cell_type": "code",
   "execution_count": 60,
   "metadata": {},
   "outputs": [],
   "source": [
    "\n",
    "# Create a CNN model for MNIST classification\n",
    "def create_model():\n",
    "    model = models.Sequential([\n",
    "        layers.Conv2D(32, (3, 3), activation='relu', input_shape=(28, 28, 1)),\n",
    "        layers.MaxPooling2D((2, 2)),\n",
    "        layers.Conv2D(64, (3, 3), activation='relu'),\n",
    "        layers.MaxPooling2D((2, 2)),\n",
    "        layers.Conv2D(64, (3, 3), activation='relu'),\n",
    "        layers.Flatten(),\n",
    "        layers.Dense(64, activation='relu'),\n",
    "        layers.Dense(10, activation='softmax')  # 10 output classes for MNIST digits\n",
    "    ])\n",
    "    model.compile(optimizer='adam',\n",
    "                  loss='sparse_categorical_crossentropy',  # Sparse since labels are integers\n",
    "                  metrics=['accuracy'])\n",
    "    return model\n",
    "\n"
   ]
  },
  {
   "cell_type": "code",
   "execution_count": 61,
   "metadata": {},
   "outputs": [],
   "source": [
    "\n",
    "# Generate adversarial  using FGSM\n",
    "def generate_adversarial_example(model, epsilon=0.1):\n",
    "    # Load a sample image from the dataset\n",
    "    (x_train, y_train), (_, _) = load_mnist_data()\n",
    "    image = x_train[0]  # Take the first image from the training set\n",
    "    label = y_train[0]  # Take the label of the first image\n",
    "\n",
    "    # Convert image to float32 and ensure it's a tensor\n",
    "    image = tf.convert_to_tensor(image, dtype=tf.float32)\n",
    "\n",
    "    # Add batch dimension (1, 28, 28, 1) to match model's expected input shape\n",
    "    image = tf.expand_dims(image, axis=0)\n",
    "\n",
    "    # Get the true label's one-hot encoded format\n",
    "    true_label = tf.one_hot(label, depth=10)\n",
    "\n",
    "    # Add batch dimension to the true label to match the prediction shape\n",
    "    true_label = tf.expand_dims(true_label, axis=0)\n",
    "\n",
    "    # Record the gradient of the loss with respect to the image\n",
    "    with tf.GradientTape() as tape:\n",
    "        tape.watch(image)  # Watch the image tensor for gradients\n",
    "        prediction = model(image)  # Get model predictions\n",
    "        loss = tf.keras.losses.categorical_crossentropy(true_label, prediction)  # Compute loss\n",
    "\n",
    "    # Compute the gradient of the loss with respect to the image\n",
    "    gradient = tape.gradient(loss, image)\n",
    "\n",
    "    # Generate the adversarial image by adding the sign of the gradient to the original image\n",
    "    adversarial_image = image + epsilon * tf.sign(gradient)\n",
    "\n",
    "    # Clip the adversarial image to ensure pixel values remain in a valid range\n",
    "    adversarial_image = tf.clip_by_value(adversarial_image, 0.0, 1.0)\n",
    "\n",
    "    # Get predictions for both original and adversarial images\n",
    "    original_pred = np.argmax(model(image), axis=1)\n",
    "    adversarial_pred = np.argmax(model(adversarial_image), axis=1)\n",
    "\n",
    "    return image[0], adversarial_image[0], original_pred, adversarial_pred\n",
    "\n"
   ]
  },
  {
   "cell_type": "code",
   "execution_count": 62,
   "metadata": {},
   "outputs": [],
   "source": [
    "\n",
    "# Visualize the original and adversarial images\n",
    "def visualize_examples(original_image, adversarial_image):\n",
    "    original_image = np.squeeze(original_image)  # Remove the batch dimension\n",
    "    adversarial_image = np.squeeze(adversarial_image)  # Remove the batch dimension\n",
    "\n",
    "    plt.figure(figsize=(10, 5))\n",
    "\n",
    "    # Plot the original image\n",
    "    plt.subplot(1, 2, 1)\n",
    "    plt.imshow(original_image.squeeze(), cmap='gray')  # Squeeze to remove extra dimensions\n",
    "    plt.title(\"Original Image\")\n",
    "    plt.axis('off')\n",
    "\n",
    "    # Plot the adversarial image\n",
    "    plt.subplot(1, 2, 2)\n",
    "    plt.imshow(adversarial_image.squeeze(), cmap='gray')\n",
    "    plt.title(\"Adversarial Image\")\n",
    "    plt.axis('off')\n",
    "\n",
    "    plt.show()\n",
    "\n"
   ]
  },
  {
   "cell_type": "code",
   "execution_count": 63,
   "metadata": {},
   "outputs": [
    {
     "name": "stdout",
     "output_type": "stream",
     "text": [
      "Epoch 1/5\n",
      "\u001b[1m844/844\u001b[0m \u001b[32m━━━━━━━━━━━━━━━━━━━━\u001b[0m\u001b[37m\u001b[0m \u001b[1m6s\u001b[0m 6ms/step - accuracy: 0.8622 - loss: 0.4361 - val_accuracy: 0.9808 - val_loss: 0.0589\n",
      "Epoch 2/5\n",
      "\u001b[1m844/844\u001b[0m \u001b[32m━━━━━━━━━━━━━━━━━━━━\u001b[0m\u001b[37m\u001b[0m \u001b[1m5s\u001b[0m 6ms/step - accuracy: 0.9824 - loss: 0.0548 - val_accuracy: 0.9878 - val_loss: 0.0443\n",
      "Epoch 3/5\n",
      "\u001b[1m844/844\u001b[0m \u001b[32m━━━━━━━━━━━━━━━━━━━━\u001b[0m\u001b[37m\u001b[0m \u001b[1m5s\u001b[0m 6ms/step - accuracy: 0.9875 - loss: 0.0399 - val_accuracy: 0.9897 - val_loss: 0.0324\n",
      "Epoch 4/5\n",
      "\u001b[1m844/844\u001b[0m \u001b[32m━━━━━━━━━━━━━━━━━━━━\u001b[0m\u001b[37m\u001b[0m \u001b[1m5s\u001b[0m 6ms/step - accuracy: 0.9899 - loss: 0.0297 - val_accuracy: 0.9897 - val_loss: 0.0360\n",
      "Epoch 5/5\n",
      "\u001b[1m844/844\u001b[0m \u001b[32m━━━━━━━━━━━━━━━━━━━━\u001b[0m\u001b[37m\u001b[0m \u001b[1m5s\u001b[0m 6ms/step - accuracy: 0.9931 - loss: 0.0210 - val_accuracy: 0.9887 - val_loss: 0.0387\n"
     ]
    },
    {
     "data": {
      "image/png": "[encoded data removed]",
      "text/plain": [
       "<Figure size 1000x500 with 2 Axes>"
      ]
     },
     "metadata": {},
     "output_type": "display_data"
    },
    {
     "name": "stdout",
     "output_type": "stream",
     "text": [
      "Original Prediction: [5]\n",
      "Adversarial Prediction: [3]\n"
     ]
    }
   ],
   "source": [
    "\n",
    "# Main function to run the code\n",
    "def main():\n",
    "    # Load and prepare data\n",
    "    (x_train, y_train), (x_test, y_test) = load_mnist_data()\n",
    "\n",
    "    # Create and train the model\n",
    "    model = create_model()\n",
    "    model.fit(x_train, y_train, epochs=5, batch_size=64, validation_split=0.1)\n",
    "\n",
    "    # Step 1: Generate adversarial example\n",
    "    original_image, adversarial_image, original_pred, adversarial_pred = generate_adversarial_example(model, epsilon=0.3)\n",
    "\n",
    "    # Step 2: Visualize the images\n",
    "    visualize_examples(original_image, adversarial_image)\n",
    "\n",
    "    # Step 3: Print the predictions\n",
    "    print(f\"Original Prediction: {original_pred}\")\n",
    "    print(f\"Adversarial Prediction: {adversarial_pred}\")\n",
    "\n",
    "if __name__ == \"__main__\":\n",
    "    main()\n"
   ]
  },
  {
   "cell_type": "code",
   "execution_count": 64,
   "metadata": {},
   "outputs": [
    {
     "name": "stderr",
     "output_type": "stream",
     "text": [
      "WARNING:absl:Compiled the loaded model, but the compiled metrics have yet to be built. `model.compile_metrics` will be empty until you train or evaluate the model.\n"
     ]
    },
    {
     "name": "stdout",
     "output_type": "stream",
     "text": [
      "313/313 - 1s - 2ms/step - accuracy: 0.9907 - loss: 0.0282\n",
      "Test accuracy on clean data: 0.9907000064849854\n",
      "Adversarial accuracy: 0.8865\n"
     ]
    }
   ],
   "source": [
    "import tensorflow as tf\n",
    "import numpy as np\n",
    "from tensorflow.keras import datasets\n",
    "\n",
    "# Generate adversarial example using FGSM\n",
    "def generate_adversarial_example(model, image, label, epsilon=0.3):\n",
    "    image = tf.convert_to_tensor(image, dtype=tf.float32)\n",
    "    image = tf.expand_dims(image, axis=0)  # Add batch dimension\n",
    "\n",
    "    # One-hot encode the label\n",
    "    true_label = tf.one_hot(label, depth=10)\n",
    "    true_label = tf.expand_dims(true_label, axis=0)  # Add batch dimension\n",
    "\n",
    "    with tf.GradientTape() as tape:\n",
    "        tape.watch(image)  # Watch the image tensor for gradients\n",
    "        prediction = model(image)\n",
    "        loss = tf.keras.losses.categorical_crossentropy(true_label, prediction)\n",
    "\n",
    "    gradient = tape.gradient(loss, image)\n",
    "    adversarial_image = image + epsilon * tf.sign(gradient)  # FGSM\n",
    "    adversarial_image = tf.clip_by_value(adversarial_image, 0.0, 1.0)  # Ensure valid pixel values\n",
    "\n",
    "    return adversarial_image[0]\n",
    "\n",
    "# Batch generate adversarial examples\n",
    "def generate_adversarial_examples_for_batch(model, x_batch, y_batch, epsilon=0.3):\n",
    "    adversarial_images = []\n",
    "    for image, label in zip(x_batch, y_batch):\n",
    "        adversarial_image = generate_adversarial_example(model, image, label, epsilon)\n",
    "        adversarial_images.append(adversarial_image)\n",
    "    return np.array(adversarial_images)\n",
    "\n",
    "# Evaluate model performance on clean data\n",
    "def evaluate_model(model, x_test, y_test):\n",
    "    # One-hot encode y_test\n",
    "    y_test_one_hot = tf.one_hot(y_test, depth=10)\n",
    "    test_loss, test_acc = model.evaluate(x_test, y_test_one_hot, verbose=2)\n",
    "    print(f\"Test accuracy on clean data: {test_acc}\")\n",
    "\n",
    "# Evaluate model performance on adversarial data\n",
    "def evaluate_on_adversarial_data(model, x_test, y_test, epsilon=0.3, batch_size=64):\n",
    "    correct_predictions = 0\n",
    "    total_predictions = len(x_test)\n",
    "\n",
    "    # Process data in batches\n",
    "    for i in range(0, total_predictions, batch_size):\n",
    "        batch_images = x_test[i:i+batch_size]\n",
    "        batch_labels = y_test[i:i+batch_size]\n",
    "\n",
    "        # Generate adversarial examples for the batch\n",
    "        adversarial_images = generate_adversarial_examples_for_batch(model, batch_images, batch_labels, epsilon)\n",
    "\n",
    "        # Get model predictions on adversarial images\n",
    "        adversarial_preds = np.argmax(model(adversarial_images), axis=1)\n",
    "\n",
    "        # Count correct predictions\n",
    "        correct_predictions += np.sum(adversarial_preds == batch_labels)\n",
    "\n",
    "    adversarial_accuracy = correct_predictions / total_predictions\n",
    "    print(f\"Adversarial accuracy: {adversarial_accuracy}\")\n",
    "\n",
    "# Main function for evaluation\n",
    "def main():\n",
    "    # Load MNIST data\n",
    "    (x_train, y_train), (x_test, y_test) = datasets.mnist.load_data()\n",
    "    x_test = np.expand_dims(x_test, axis=-1) / 255.0  # Normalize and expand dims for CNN\n",
    "\n",
    "    # Load the pre-trained model\n",
    "    model = tf.keras.models.load_model(\"mnist_model.h5\")\n",
    "\n",
    "    # Evaluate on clean test data\n",
    "    evaluate_model(model, x_test, y_test)\n",
    "\n",
    "    # Evaluate on adversarial test data\n",
    "    evaluate_on_adversarial_data(model, x_test, y_test, epsilon=0.1, batch_size=64)\n",
    "\n",
    "if __name__ == \"__main__\":\n",
    "    main()\n"
   ]
  },
  {
   "cell_type": "code",
   "execution_count": 65,
   "metadata": {},
   "outputs": [
    {
     "name": "stderr",
     "output_type": "stream",
     "text": [
      "WARNING:absl:Compiled the loaded model, but the compiled metrics have yet to be built. `model.compile_metrics` will be empty until you train or evaluate the model.\n"
     ]
    },
    {
     "name": "stdout",
     "output_type": "stream",
     "text": [
      "313/313 - 1s - 2ms/step - accuracy: 0.9907 - loss: 0.0282\n",
      "Test accuracy on clean data: 0.9907000064849854\n",
      "Adversarial accuracy: 0.0000\n"
     ]
    },
    {
     "data": {
      "image/png": "[encoded data removed]",
      "text/plain": [
       "<Figure size 1000x500 with 2 Axes>"
      ]
     },
     "metadata": {},
     "output_type": "display_data"
    }
   ],
   "source": [
    "import matplotlib.pyplot as plt\n",
    "\n",
    "def visualize_results(original_image, adversarial_image, original_pred, adversarial_pred):\n",
    "    # Plot the original image and adversarial image side by side\n",
    "    plt.figure(figsize=(10, 5))\n",
    "    \n",
    "    # Original image\n",
    "    plt.subplot(1, 2, 1)\n",
    "    plt.imshow(original_image.squeeze(), cmap='gray')  # Squeeze to remove extra dimensions\n",
    "    plt.title(f\"Original Image\\nPrediction: {original_pred}\")\n",
    "    plt.axis('off')\n",
    "\n",
    "    # Adversarial image\n",
    "    plt.subplot(1, 2, 2)\n",
    "    plt.imshow(adversarial_image.squeeze(), cmap='gray')\n",
    "    plt.title(f\"Adversarial Image\\nPrediction: {adversarial_pred}\")\n",
    "    plt.axis('off')\n",
    "    \n",
    "    plt.show()\n",
    "\n",
    "def plot_accuracy(clean_accuracy, adversarial_accuracy):\n",
    "    # Plot the accuracy for clean and adversarial data\n",
    "    labels = ['Clean', 'Adversarial']\n",
    "    accuracies = [clean_accuracy, adversarial_accuracy]\n",
    "    \n",
    "    plt.figure(figsize=(6, 4))\n",
    "    plt.bar(labels, accuracies, color=['blue', 'red'])\n",
    "    plt.title('Accuracy on Clean vs Adversarial Data')\n",
    "    plt.ylabel('Accuracy')\n",
    "    plt.ylim(0, 1)\n",
    "    plt.show()\n",
    "\n",
    "def generate_adversarial_example(model, image, label, epsilon=0.1):\n",
    "    # Convert image to float32 and ensure it's a tensor\n",
    "    image = tf.convert_to_tensor(image, dtype=tf.float32)\n",
    "\n",
    "    # Add batch dimension (1, 28, 28, 1) to match model's expected input shape\n",
    "    image = tf.expand_dims(image, axis=0)\n",
    "\n",
    "    # Get the true label's one-hot encoded format\n",
    "    true_label = tf.one_hot(label, depth=10)\n",
    "\n",
    "    # Add batch dimension to the true label to match the prediction shape\n",
    "    true_label = tf.expand_dims(true_label, axis=0)\n",
    "\n",
    "    # Record the gradient of the loss with respect to the image\n",
    "    with tf.GradientTape() as tape:\n",
    "        tape.watch(image)  # Watch the image tensor for gradients\n",
    "        prediction = model(image)  # Get model predictions\n",
    "        loss = tf.keras.losses.categorical_crossentropy(true_label, prediction)  # Compute loss\n",
    "\n",
    "    # Compute the gradient of the loss with respect to the image\n",
    "    gradient = tape.gradient(loss, image)\n",
    "\n",
    "    # Generate the adversarial image by adding the sign of the gradient to the original image\n",
    "    adversarial_image = image + epsilon * tf.sign(gradient)\n",
    "\n",
    "    # Clip the adversarial image to ensure pixel values remain in a valid range\n",
    "    adversarial_image = tf.clip_by_value(adversarial_image, 0.0, 1.0)\n",
    "\n",
    "    # Get predictions for both original and adversarial images\n",
    "    original_pred = np.argmax(model(image), axis=1)\n",
    "    adversarial_pred = np.argmax(model(adversarial_image), axis=1)\n",
    "\n",
    "    # Return only the images and predictions (we will modify the return statement accordingly)\n",
    "    return image[0].numpy(), adversarial_image[0].numpy(), original_pred[0], adversarial_pred[0]\n",
    "\n",
    "\n",
    "# Assuming you have the adversarial image generation and evaluation as before\n",
    "def main():\n",
    "    # Load the model and data\n",
    "    model = tf.keras.models.load_model(\"mnist_model.h5\")\n",
    "    (x_train, y_train), (x_test, y_test) = load_mnist_data()\n",
    "\n",
    "    # One-hot encode the labels for evaluation\n",
    "    y_test_one_hot = tf.keras.utils.to_categorical(y_test, 10)  # One-hot encoding for the labels\n",
    "\n",
    "    # Evaluate on clean test data\n",
    "    clean_loss, clean_acc = model.evaluate(x_test, y_test_one_hot, verbose=2)  # Use one-hot encoded labels\n",
    "    print(f\"Test accuracy on clean data: {clean_acc}\")\n",
    "\n",
    "    # Generate adversarial example for a sample (using the first image from the test set)\n",
    "    original_image = x_test[0]  # Use the first image from the test set\n",
    "    label = y_test[0]  # Use the corresponding label for the first image\n",
    "    original_image, adversarial_image, original_pred, adversarial_pred = generate_adversarial_example(model, image=original_image, label=label, epsilon=0.1)\n",
    "\n",
    "    # Evaluate on adversarial data\n",
    "    adversarial_accuracy = np.mean(original_pred != adversarial_pred)  # This gives adversarial accuracy\n",
    "    \n",
    "    print(f\"Adversarial accuracy: {adversarial_accuracy:.4f}\")\n",
    "\n",
    "    # Plot the results\n",
    "    visualize_results(original_image, adversarial_image, original_pred, adversarial_pred)\n",
    "    \n",
    "if __name__ == \"__main__\":\n",
    "    main()\n"
   ]
  },
  {
   "cell_type": "code",
   "execution_count": null,
   "metadata": {},
   "outputs": [],
   "source": [
    "    "
   ]
  }
 ],
 "metadata": {
  "kernelspec": {
   "display_name": "Python 3",
   "language": "python",
   "name": "python3"
  },
  "language_info": {
   "codemirror_mode": {
    "name": "ipython",
    "version": 3
   },
   "file_extension": ".py",
   "mimetype": "text/x-python",
   "name": "python",
   "nbconvert_exporter": "python",
   "pygments_lexer": "ipython3",
   "version": "3.11.9"
  }
 },
 "nbformat": 4,
 "nbformat_minor": 2
}
